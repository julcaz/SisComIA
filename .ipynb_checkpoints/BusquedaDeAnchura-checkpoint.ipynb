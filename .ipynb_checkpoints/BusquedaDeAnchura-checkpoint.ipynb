{
 "cells": [
  {
   "cell_type": "code",
   "execution_count": null,
   "id": "26a0dfdc",
   "metadata": {},
   "outputs": [],
   "source": [
    "from utils_8puzzle import *\n",
    "\n",
    "def breadth_first_search(start):\n",
    "    from collections import deque\n",
    "    visited = set()\n",
    "    queue = deque([start])\n",
    "    came_from = {tuple(start): None}\n",
    "\n",
    "    while queue:\n",
    "        current = queue.popleft()\n",
    "        if current == GOAL_STATE:\n",
    "            print(\"\\n¡Solución encontrada con Búsqueda por Anchura (BFS)!\")\n",
    "            print_path(came_from, current)\n",
    "            return\n",
    "        visited.add(tuple(current))\n",
    "        for neighbor in get_neighbors(current):\n",
    "            if tuple(neighbor) not in visited and tuple(neighbor) not in came_from:\n",
    "                came_from[tuple(neighbor)] = current\n",
    "                queue.append(neighbor)\n",
    "    print(\"No se encontró solución con BFS.\")\n",
    "\n",
    "def main():\n",
    "    print(\"\\n=== Búsqueda por Anchura (BFS) para el 8 Puzzle ===\")\n",
    "    try:\n",
    "        start = list(map(int, input(\"\\nIngresa el estado inicial (9 números del 0 al 8, separados por espacios): \").split()))\n",
    "        if len(start) != 9 or not all(n in range(9) for n in start):\n",
    "            raise ValueError\n",
    "    except ValueError:\n",
    "        print(\"\\nEntrada inválida. Debes ingresar 9 números del 0 al 8 sin repetir.\")\n",
    "        return\n",
    "\n",
    "    if not is_solvable(start):\n",
    "        print(\"\\nEste puzzle no es resoluble.\")\n",
    "        return\n",
    "\n",
    "    breadth_first_search(start)\n",
    "\n",
    "if __name__ == '__main__':\n",
    "    main()\n"
   ]
  }
 ],
 "metadata": {
  "language_info": {
   "name": "python"
  }
 },
 "nbformat": 4,
 "nbformat_minor": 5
}
