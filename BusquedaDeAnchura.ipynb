{
 "cells": [
  {
   "cell_type": "code",
   "execution_count": null,
   "id": "780d85f5-dc87-47c5-8c99-bef9458b0e06",
   "metadata": {},
   "outputs": [],
   "source": [
    "0 1 2 3 4 5 6 7 8\n"
   ]
  },
  {
   "cell_type": "code",
   "execution_count": 3,
   "id": "26a0dfdc",
   "metadata": {},
   "outputs": [
    {
     "name": "stdout",
     "output_type": "stream",
     "text": [
      "\n",
      "=== Búsqueda por Anchura (BFS) para el 8 Puzzle ===\n"
     ]
    },
    {
     "name": "stdin",
     "output_type": "stream",
     "text": [
      "\n",
      "Ingresa el estado inicial (9 números del 0 al 8, separados por espacios):  1\n"
     ]
    },
    {
     "name": "stdout",
     "output_type": "stream",
     "text": [
      "\n",
      "Entrada inválida. Debes ingresar 9 números del 0 al 8 sin repetir.\n"
     ]
    }
   ],
   "source": [
    "\n",
    "def breadth_first_search(start):\n",
    "    from collections import deque\n",
    "    visited = set()\n",
    "    queue = deque([start])\n",
    "    came_from = {tuple(start): None}\n",
    "\n",
    "    while queue:\n",
    "        current = queue.popleft()\n",
    "        if current == GOAL_STATE:\n",
    "            print(\"\\n¡Solución encontrada con Búsqueda por Anchura (BFS)!\")\n",
    "            print_path(came_from, current)\n",
    "            return\n",
    "        visited.add(tuple(current))\n",
    "        for neighbor in get_neighbors(current):\n",
    "            if tuple(neighbor) not in visited and tuple(neighbor) not in came_from:\n",
    "                came_from[tuple(neighbor)] = current\n",
    "                queue.append(neighbor)\n",
    "    print(\"No se encontró solución con BFS.\")\n",
    "\n",
    "def main():\n",
    "    print(\"\\n=== Búsqueda por Anchura (BFS) para el 8 Puzzle ===\")\n",
    "    try:\n",
    "        start = list(map(int, input(\"\\nIngresa el estado inicial (9 números del 0 al 8, separados por espacios): \").split()))\n",
    "        if len(start) != 9 or not all(n in range(9) for n in start):\n",
    "            raise ValueError\n",
    "    except ValueError:\n",
    "        print(\"\\nEntrada inválida. Debes ingresar 9 números del 0 al 8 sin repetir.\")\n",
    "        return\n",
    "\n",
    "    if not is_solvable(start):\n",
    "        print(\"\\nEste puzzle no es resoluble.\")\n",
    "        return\n",
    "\n",
    "    breadth_first_search(start)\n",
    "\n",
    "if __name__ == '__main__':\n",
    "    main()\n"
   ]
  },
  {
   "cell_type": "code",
   "execution_count": null,
   "id": "5fca61da-888c-48d9-b653-b98b8aecf05e",
   "metadata": {},
   "outputs": [],
   "source": [
    "1 2 3 4 5 6 7 8 0\n"
   ]
  },
  {
   "cell_type": "code",
   "execution_count": null,
   "id": "31e83ab9-09ff-4166-ae53-e70bd6333ca7",
   "metadata": {},
   "outputs": [],
   "source": [
    "1 2 3 4 5 6 7 8 0\n",
    "\n",
    "\n",
    "\n"
   ]
  }
 ],
 "metadata": {
  "kernelspec": {
   "display_name": "Python 3 (ipykernel)",
   "language": "python",
   "name": "python3"
  },
  "language_info": {
   "codemirror_mode": {
    "name": "ipython",
    "version": 3
   },
   "file_extension": ".py",
   "mimetype": "text/x-python",
   "name": "python",
   "nbconvert_exporter": "python",
   "pygments_lexer": "ipython3",
   "version": "3.10.0"
  }
 },
 "nbformat": 4,
 "nbformat_minor": 5
}
