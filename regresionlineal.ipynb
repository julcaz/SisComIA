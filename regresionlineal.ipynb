{
 "cells": [
  {
   "cell_type": "code",
   "execution_count": null,
   "id": "422864b9",
   "metadata": {},
   "outputs": [],
   "source": [
    "\n",
    "import numpy as np\n",
    "import matplotlib.pyplot as plt\n",
    "from tensorflow.keras.models import Sequential\n",
    "from tensorflow.keras.layers import Dense\n"
   ]
  },
  {
   "cell_type": "code",
   "execution_count": null,
   "id": "a92f0a25",
   "metadata": {},
   "outputs": [],
   "source": [
    "\n",
    "x_train = np.array([1, 2, 3, 4, 5], dtype=float)\n",
    "y_train = np.array([2, 4, 6, 8, 10], dtype=float)\n"
   ]
  },
  {
   "cell_type": "code",
   "execution_count": null,
   "id": "dae5498d",
   "metadata": {},
   "outputs": [],
   "source": [
    "\n",
    "model = Sequential()\n",
    "model.add(Dense(units=1, input_shape=[1]))\n"
   ]
  },
  {
   "cell_type": "code",
   "execution_count": null,
   "id": "0a929ed1",
   "metadata": {},
   "outputs": [],
   "source": [
    "\n",
    "model.compile(optimizer='sgd', loss='mean_squared_error')\n"
   ]
  },
  {
   "cell_type": "code",
   "execution_count": null,
   "id": "0b3814a2",
   "metadata": {},
   "outputs": [],
   "source": [
    "\n",
    "history = model.fit(x_train, y_train, epochs=200, verbose=0)\n"
   ]
  },
  {
   "cell_type": "code",
   "execution_count": null,
   "id": "ce7e6aca",
   "metadata": {},
   "outputs": [],
   "source": [
    "\n",
    "x_test = np.array([6, 7, 8], dtype=float)\n",
    "y_pred = model.predict(x_test)\n",
    "print(\"Predicciones:\", y_pred.flatten())\n"
   ]
  },
  {
   "cell_type": "code",
   "execution_count": null,
   "id": "8223f732",
   "metadata": {},
   "outputs": [],
   "source": [
    "\n",
    "plt.scatter(x_train, y_train, color='blue', label='Datos de entrenamiento')\n",
    "plt.plot(x_test, y_pred, color='red', label='Predicción del modelo')\n",
    "plt.title('Regresión lineal con red neuronal')\n",
    "plt.xlabel('x')\n",
    "plt.ylabel('y')\n",
    "plt.legend()\n",
    "plt.grid(True)\n",
    "plt.show()\n"
   ]
  }
 ],
 "metadata": {},
 "nbformat": 4,
 "nbformat_minor": 5
}
