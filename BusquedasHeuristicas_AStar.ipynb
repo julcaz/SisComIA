{
 "cells": [
  {
   "cell_type": "code",
   "execution_count": null,
   "metadata": {},
   "outputs": [],
   "source": [
    "from utils_8puzzle import *\n",
    "\n",
    "import heapq"
   ]
  },
  {
   "cell_type": "code",
   "execution_count": null,
   "metadata": {},
   "outputs": [],
   "source": [
    "def heuristic(state):\n",
    "    distance = 0\n",
    "    for i, val in enumerate(state):\n",
    "        if val != 0:\n",
    "            goal_pos = GOAL_STATE.index(val)\n",
    "            current_row, current_col = divmod(i, 3)\n",
    "            goal_row, goal_col = divmod(goal_pos, 3)\n",
    "            distance += abs(current_row - goal_row) + abs(current_col - goal_col)\n",
    "    return distance"
   ]
  },
  {
   "cell_type": "code",
   "execution_count": null,
   "metadata": {},
   "outputs": [],
   "source": [
    "def a_star_search(start):\n",
    "    open_set = []\n",
    "    heapq.heappush(open_set, (heuristic(start), 0, start))\n",
    "    came_from = {tuple(start): None}\n",
    "    g_score = {tuple(start): 0}\n",
    "    closed_set = set()\n",
    "\n",
    "    while open_set:\n",
    "        _, cost, current = heapq.heappop(open_set)\n",
    "        if current == GOAL_STATE:\n",
    "            print(\"\\n¡Solución encontrada con Búsqueda Heurística (A*)!\")\n",
    "            print_path(came_from, current)\n",
    "            return\n",
    "        closed_set.add(tuple(current))\n",
    "\n",
    "        for neighbor in get_neighbors(current):\n",
    "            tentative_g_score = g_score[tuple(current)] + 1\n",
    "            neighbor_t = tuple(neighbor)\n",
    "            if neighbor_t in closed_set:\n",
    "                continue\n",
    "            if neighbor_t not in g_score or tentative_g_score < g_score[neighbor_t]:\n",
    "                came_from[neighbor_t] = current\n",
    "                g_score[neighbor_t] = tentative_g_score\n",
    "                f_score = tentative_g_score + heuristic(neighbor)\n",
    "                heapq.heappush(open_set, (f_score, tentative_g_score, neighbor))\n",
    "    print(\"No se encontró solución con A*.\")"
   ]
  },
  {
   "cell_type": "code",
   "execution_count": null,
   "metadata": {},
   "outputs": [],
   "source": [
    "def main():\n",
    "    print(\"\\n=== Búsqueda Heurística (A*) para el 8 Puzzle ===\")\n",
    "    try:\n",
    "        start = list(map(int, input(\"\\nIngresa el estado inicial (9 números del 0 al 8, separados por espacios): \").split()))\n",
    "        if len(start) != 9 or not all(n in range(9) for n in start):\n",
    "            raise ValueError\n",
    "    except ValueError:\n",
    "        print(\"\\nEntrada inválida. Debes ingresar 9 números del 0 al 8 sin repetir.\")\n",
    "        return\n",
    "\n",
    "    if not is_solvable(start):\n",
    "        print(\"\\nEste puzzle no es resoluble.\")\n",
    "        return\n",
    "\n",
    "    a_star_search(start)"
   ]
  },
  {
   "cell_type": "code",
   "execution_count": null,
   "metadata": {},
   "outputs": [],
   "source": [
    "if __name__ == '__main__':\n",
    "    main()"
   ]
  }
 ],
 "metadata": {
  "kernelspec": {
   "display_name": "Python 3",
   "language": "python",
   "name": "python3"
  },
  "language_info": {
   "name": "python"
  }
 },
 "nbformat": 4,
 "nbformat_minor": 5
}
