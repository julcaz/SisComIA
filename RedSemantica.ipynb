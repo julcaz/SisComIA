{
 "cells": [
  {
   "cell_type": "code",
   "execution_count": null,
   "metadata": {},
   "outputs": [],
   "source": [
    "class Nodo:\n",
    "    def __init__(self, nombre):\n",
    "        self.nombre = nombre\n",
    "        self.relaciones = []\n",
    "\n",
    "    def agregar_relacion(self, tipo, destino):\n",
    "        self.relaciones.append((tipo, destino))\n",
    "\n",
    "    def mostrar_relaciones(self):\n",
    "        for tipo, destino in self.relaciones:\n",
    "            print(f\"{self.nombre} --{tipo}--> {destino.nombre}\")\n",
    "\n",
    "# Crear nodos (conceptos)\n",
    "canario = Nodo(\"Canario\")\n",
    "pajaro = Nodo(\"Pájaro\")\n",
    "animal = Nodo(\"Animal\")\n",
    "plumas = Nodo(\"Plumas\")\n",
    "volar = Nodo(\"Volar\")\n",
    "comida = Nodo(\"Comida\")\n",
    "\n",
    "# Establecer relaciones (aristas)\n",
    "canario.agregar_relacion(\"es_un\", pajaro)\n",
    "pajaro.agregar_relacion(\"es_un\", animal)\n",
    "canario.agregar_relacion(\"puede\", volar)\n",
    "canario.agregar_relacion(\"tiene\", plumas)\n",
    "animal.agregar_relacion(\"necesita\", comida)\n",
    "\n",
    "# Mostrar la red semántica\n",
    "print(\"📚 Red semántica:\")\n",
    "nodos = [canario, pajaro, animal]\n",
    "for nodo in nodos:\n",
    "    nodo.mostrar_relaciones()"
   ]
  }
 ],
 "metadata": {
  "kernelspec": {
   "display_name": "Python 3",
   "language": "python",
   "name": "python3"
  },
  "language_info": {
   "name": "python"
  }
 },
 "nbformat": 4,
 "nbformat_minor": 5
}
